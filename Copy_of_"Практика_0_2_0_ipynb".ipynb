{
  "nbformat": 4,
  "nbformat_minor": 0,
  "metadata": {
    "colab": {
      "provenance": [],
      "include_colab_link": true
    },
    "kernelspec": {
      "name": "python3",
      "display_name": "Python 3"
    },
    "language_info": {
      "name": "python"
    }
  },
  "cells": [
    {
      "cell_type": "markdown",
      "metadata": {
        "id": "view-in-github",
        "colab_type": "text"
      },
      "source": [
        "<a href=\"https://colab.research.google.com/github/Weeqeen/Homeworks/blob/main/Copy_of_%22%D0%9F%D1%80%D0%B0%D0%BA%D1%82%D0%B8%D0%BA%D0%B0_0_2_0_ipynb%22.ipynb\" target=\"_parent\"><img src=\"https://colab.research.google.com/assets/colab-badge.svg\" alt=\"Open In Colab\"/></a>"
      ]
    },
    {
      "cell_type": "markdown",
      "source": [
        "Напишите свое ФИО:"
      ],
      "metadata": {
        "id": "0PnTh-ajEoEb"
      }
    },
    {
      "cell_type": "code",
      "source": [
        "Сбродов Илья Андреевич"
      ],
      "metadata": {
        "id": "QyMVPjzWErHw",
        "colab": {
          "base_uri": "https://localhost:8080/",
          "height": 106
        },
        "outputId": "7a1005fa-6a40-483c-d61f-5675d128a1da"
      },
      "execution_count": null,
      "outputs": [
        {
          "output_type": "error",
          "ename": "SyntaxError",
          "evalue": "invalid syntax (<ipython-input-1-7c129e7e2561>, line 1)",
          "traceback": [
            "\u001b[0;36m  File \u001b[0;32m\"<ipython-input-1-7c129e7e2561>\"\u001b[0;36m, line \u001b[0;32m1\u001b[0m\n\u001b[0;31m    Сбродов Илья Андреевич\u001b[0m\n\u001b[0m            ^\u001b[0m\n\u001b[0;31mSyntaxError\u001b[0m\u001b[0;31m:\u001b[0m invalid syntax\n"
          ]
        }
      ]
    },
    {
      "cell_type": "markdown",
      "source": [
        "# Основы"
      ],
      "metadata": {
        "id": "HPwKiIA4EKO-"
      }
    },
    {
      "cell_type": "markdown",
      "source": [
        "Задание 1: Напиши программу, выводящую на экран сообщение \"Привет, мир!\""
      ],
      "metadata": {
        "id": "8po5IidFERZ8"
      }
    },
    {
      "cell_type": "code",
      "execution_count": null,
      "metadata": {
        "id": "sBRjlCVLEIQr",
        "colab": {
          "base_uri": "https://localhost:8080/"
        },
        "outputId": "8d2eeec6-6bad-4ea6-cca3-10182f672976"
      },
      "outputs": [
        {
          "output_type": "stream",
          "name": "stdout",
          "text": [
            "Привет, мир!\n"
          ]
        }
      ],
      "source": [
        "print(\"Привет, мир!\")"
      ]
    },
    {
      "cell_type": "markdown",
      "source": [
        "Задание 2: Напиши программу которая запрашивает имя пользователя и выводит сообщение:\n",
        "\n",
        "`Привет, <Имя пользователя>`"
      ],
      "metadata": {
        "id": "pUQIIo94EYLg"
      }
    },
    {
      "cell_type": "code",
      "source": [
        "name = input(\"Введите своё имя: \")\n",
        "print(\"Привет,\", name)"
      ],
      "metadata": {
        "id": "nNwHKmAnEinH",
        "colab": {
          "base_uri": "https://localhost:8080/"
        },
        "outputId": "789bba46-edc7-450f-d187-278354aba255"
      },
      "execution_count": null,
      "outputs": [
        {
          "output_type": "stream",
          "name": "stdout",
          "text": [
            "Введите своё имя: Илья\n",
            "Привет, Илья\n"
          ]
        }
      ]
    },
    {
      "cell_type": "markdown",
      "source": [
        "Задание 3: Напиши программу определяющую является ли число четным или нечетным:\n",
        "\n",
        "Пример:\n",
        "\n",
        "`Введите число:` 2\n",
        "\n",
        "`Ваше число четное!`"
      ],
      "metadata": {
        "id": "SAUm9W6_Etkh"
      }
    },
    {
      "cell_type": "code",
      "source": [
        "number = int(input(\"Введите своё число: \"))\n",
        "if number % 2 == 0:\n",
        "   print(\"Ваше число чётное\")\n",
        "else:\n",
        "   print(\"Ваше число нечётное\")"
      ],
      "metadata": {
        "id": "LXv7AIN1E4on",
        "colab": {
          "base_uri": "https://localhost:8080/"
        },
        "outputId": "64fd4f55-6fc1-40a4-b5e1-0e15a1cf8fe7"
      },
      "execution_count": null,
      "outputs": [
        {
          "output_type": "stream",
          "name": "stdout",
          "text": [
            "Введите своё число: 2\n",
            "Ваше число чётное\n"
          ]
        }
      ]
    },
    {
      "cell_type": "markdown",
      "source": [
        "Задание 4: Напишите программу которая запрашивает длинну и ширину прямоугольника и выводит его площадь:\n",
        "\n",
        "\n",
        "\n",
        "`Введите длинну прямоугольника:`\n",
        "\n",
        "`Введите ширину прямоугольника:`\n",
        "\n",
        "`Площадь прямоугольника: `\n",
        "\n"
      ],
      "metadata": {
        "id": "OW1Y5KyUE_n9"
      }
    },
    {
      "cell_type": "code",
      "source": [
        "lenght, width = int(input(\"Введите длину прямоугольнка: \")), int(input(\"Введите ширину прямоугольнка: \"))\n",
        "square = lenght * width\n",
        "print(\"Площадь прямоугольнка:\", square)"
      ],
      "metadata": {
        "id": "Bu5iawknFbXP",
        "colab": {
          "base_uri": "https://localhost:8080/"
        },
        "outputId": "83f6f8f2-814a-48e4-9d46-b86fc57ac230"
      },
      "execution_count": null,
      "outputs": [
        {
          "output_type": "stream",
          "name": "stdout",
          "text": [
            "Введите длину прямоугольнка: 2\n",
            "Введите ширину прямоугольнка: 5\n",
            "Площадь прямоугольнка: 10\n"
          ]
        }
      ]
    },
    {
      "cell_type": "markdown",
      "source": [
        "Задание 5: Напишите программу, которая будет вычислять среднее арифметическое введенных чисел"
      ],
      "metadata": {
        "id": "xj8_QNLsFfLw"
      }
    },
    {
      "cell_type": "code",
      "source": [
        "num_1 = int(input(\"Введите первое число: \"))\n",
        "num_2 = int(input(\"Введите второе число: \"))\n",
        "num_3 = int(input(\"Введите третье число: \"))\n",
        "numbers = [num_1, num_2, num_3]\n",
        "print(sum(numbers)/len(numbers))"
      ],
      "metadata": {
        "id": "omumX59JFoKw",
        "colab": {
          "base_uri": "https://localhost:8080/"
        },
        "outputId": "a055fb1e-36fa-4473-aa1d-718a79a9fa51"
      },
      "execution_count": null,
      "outputs": [
        {
          "output_type": "stream",
          "name": "stdout",
          "text": [
            "Введите первое число: 5\n",
            "Введите второе число: 4\n",
            "Введите третье число: 3\n",
            "4.0\n"
          ]
        }
      ]
    },
    {
      "cell_type": "markdown",
      "source": [
        "Задание 6: Напиши программу, которая бы определяла является ли год високосным"
      ],
      "metadata": {
        "id": "qHXcBMUJcP91"
      }
    },
    {
      "cell_type": "code",
      "source": [
        "year = int(input(\"Введите год, который хотите проверить на високосность: \"))\n",
        "if year % 4 == 0:\n",
        "   print(\"Этот год високосный!\")\n",
        "else:\n",
        "   print(\"Данный год не високосный\")"
      ],
      "metadata": {
        "id": "5zIg47mwcKKr",
        "colab": {
          "base_uri": "https://localhost:8080/"
        },
        "outputId": "c93994bc-9cb6-4570-8382-963c9f09dd05"
      },
      "execution_count": null,
      "outputs": [
        {
          "output_type": "stream",
          "name": "stdout",
          "text": [
            "Введите год, который хотите проверить на високосность: 2201\n",
            "Данный год не високосный\n"
          ]
        }
      ]
    },
    {
      "cell_type": "markdown",
      "source": [
        "Задание 7: Необходимо создать простой калькулятор, который позволяет пользователю выбрать одну из четырёх операций (+, -, *, /), ввести два числа и получить результат выполнения операции."
      ],
      "metadata": {
        "id": "CYaQ69kucdhj"
      }
    },
    {
      "cell_type": "code",
      "source": [
        "operation = input(\"Введите действие, которое планируете совершить: \")\n",
        "num_1 = int(input(\"Введите первое число: \"))\n",
        "num_2 = int(input(\"Введите второе число: \"))\n",
        "if operation == \"+\":\n",
        "   print(num_1+num_2)\n",
        "elif operation == \"-\":\n",
        "   print(num_1 - num_2)\n",
        "elif operation == \"*\":\n",
        "   print(num_1 * num_2)\n",
        "elif operation == \"/\":\n",
        "   print(num_1/num_2)"
      ],
      "metadata": {
        "id": "wR5UyEf7ciIE",
        "colab": {
          "base_uri": "https://localhost:8080/"
        },
        "outputId": "43ff82cc-61a1-4080-bf9f-2736e41ea148"
      },
      "execution_count": null,
      "outputs": [
        {
          "output_type": "stream",
          "name": "stdout",
          "text": [
            "Введите действие, которое планируете совершить: +\n",
            "Введите первое число: 2\n",
            "Введите второе число: 3\n",
            "5\n"
          ]
        }
      ]
    },
    {
      "cell_type": "markdown",
      "source": [
        "--------------------------------------------------------------------------------\n",
        "\n",
        "**Да, задания ниже тоже обязательны, вам необходимо выполнить веееееесь файл**\n",
        "\n",
        "--------------------------------------------------------------------------------\n"
      ],
      "metadata": {
        "id": "PcJ66hI-vAlk"
      }
    },
    {
      "cell_type": "markdown",
      "source": [
        "# Практика 0.2.1"
      ],
      "metadata": {
        "id": "XWBhGpdEFo-U"
      }
    },
    {
      "cell_type": "markdown",
      "source": [
        "**Шахматы**\n",
        "\n",
        "Даны стартовые и конечные координаты, а также фигура\n",
        "\n",
        "Необходимо определить, может ли заданная фигура так ходить?"
      ],
      "metadata": {
        "id": "9Lw9odpqFwtn"
      }
    },
    {
      "cell_type": "code",
      "source": [
        "figure = input(\"Введите название фигуры с заглавной буквы: \")\n",
        "x1 = int(input(\"Введите номер столбца начальной координаты: \"))\n",
        "y1 = int(input(\"Введите номер строки начальной координаты: \"))\n",
        "x2 = int(input(\"Введите номер столбца конечной координаты: \"))\n",
        "y2 = int(input(\"Введите номер строки конечной координаты: \"))\n",
        "if x1 <= 8 and x2 <= 8 and y1 <= 8 and y2 <= 8:\n",
        "    if figure == \"Ферзь\":\n",
        "        if abs(x1-x2) == abs(y1 - y2) or x1 == x2 or y1 == y2:\n",
        "            print(\"Ферзь может так ходить\")\n",
        "        else:\n",
        "            print(\"Ферзь не может так ходить\")\n",
        "    if figure == \"Пешка\":\n",
        "        if y2-y1 == 1 and x1 == x2:\n",
        "            print(\"Пешка может так ходить\")\n",
        "        else:\n",
        "            print(\"Пешка не может так ходить\")\n",
        "    if figure == \"Король\":\n",
        "        if abs(x1-x2) <= 1 and abs(y1-y2) <= 1:\n",
        "            print(\"Король может так ходить\")\n",
        "        else:\n",
        "            print(\"Король не может так ходить\")\n",
        "    if figure == \"Ладья\":\n",
        "        if x1 == x2 or y1 == y2:\n",
        "            print(\"Ладья может так ходить\")\n",
        "        else:\n",
        "            print(\"Ладья не может так ходить\")\n",
        "    if figure == \"Конь\":\n",
        "        if (abs(x1 - x2) == 1 and abs(y1 - y2) == 2) or (abs(x1-x2) == 2 and abs(y1-y2) == 1):\n",
        "            print(\"Конь может так ходить\")\n",
        "        else:\n",
        "            print(\"Конь не может так ходить\")\n",
        "    if figure == \"Слон\":\n",
        "        if abs(x1-x2) == abs(y1 - y2):\n",
        "            print(\"Слон может так ходить\")\n",
        "        else:\n",
        "            print(\"Слон не может так ходить\")\n",
        "else:\n",
        "    print(\"Поле максимум до 8\")"
      ],
      "metadata": {
        "id": "9IICo0p3F07P",
        "colab": {
          "base_uri": "https://localhost:8080/"
        },
        "outputId": "328532ea-960f-448e-83ba-d99cda935c19"
      },
      "execution_count": null,
      "outputs": [
        {
          "output_type": "stream",
          "name": "stdout",
          "text": [
            "Введите название фигуры с заглавной буквы: Конь\n",
            "Введите номер столбца начальной координаты: 3\n",
            "Введите номер строки начальной координаты: 2\n",
            "Введите номер столбца конечной координаты: 4\n",
            "Введите номер строки конечной координаты: 4\n",
            "Конь может так ходить\n"
          ]
        }
      ]
    },
    {
      "cell_type": "markdown",
      "source": [
        "# Практика 0.2.2\n",
        "\n",
        "**Цифра на определенном месте:**\n",
        "\n",
        "Последовательно записан натуральный ряд чисел.\n",
        "\n",
        "Какая цифра стоит в N позиции"
      ],
      "metadata": {
        "id": "wI5bLNpHGDmO"
      }
    },
    {
      "cell_type": "code",
      "source": [
        "num1 = [i for i in range(1,1000)]\n",
        "num2  = (map(str,num1))\n",
        "num3 = ''.join(num2)\n",
        "position = num3[int(input('Введите позицию: '))-1]\n",
        "print(position)"
      ],
      "metadata": {
        "id": "XLm_zFGzGNsU"
      },
      "execution_count": null,
      "outputs": []
    },
    {
      "cell_type": "markdown",
      "source": [
        "# Практика 0.2.3\n",
        "\n",
        "\n",
        "Возьмите код из задания 7 и улучшите ваш калькулятор следующим образом:\n",
        "\n",
        "Пользователь вводит строку вида:\n",
        "\n",
        "(5+5)*5 - данная строка содержит в себе математическое выражение, а также скобки\n",
        "\n",
        "Ваша программа должная понять что за математическое выражение записано, проверить верно ли оно записано (пример неверного заполнения: (5(+)5)*5, а также расчитать его в соотвествии с правилами математики"
      ],
      "metadata": {
        "id": "dpxTJv-scnMy"
      }
    },
    {
      "cell_type": "code",
      "source": [
        "def actions(operation, num1, num2):\n",
        "    if operation == \"+\":\n",
        "        num3 = (num1 + num2)\n",
        "    elif operation == \"-\":\n",
        "        num3 = (num1 - num2)\n",
        "    elif operation == \"*\":\n",
        "        num3 = (num1 * num2)\n",
        "    elif operation == \"/\":\n",
        "        num3 = (num1 / num2)\n",
        "    return num3\n",
        "\n",
        "\n",
        "expression = \"(5+5)*5\"\n",
        "if \"(\" in expression and \")\" in expression:\n",
        "    if expression.count(\"(\") == expression.count(\")\"):\n",
        "        action1 = (expression[expression.find(\"(\")+1: expression.find(\")\")])\n",
        "        num3 = actions((action1[1]), int(action1[0]),int(action1[2]))\n",
        "        expression1 = expression[expression.find(\")\")+1:]\n",
        "        print(actions(expression1[0], num3,int(expression1[1])))\n",
        "\n",
        "from google.colab import files\n",
        "\n",
        "with open('example.txt', 'w') as f:\n",
        "  f.write('some content')\n",
        "\n",
        "files.download('example.txt')"
      ],
      "metadata": {
        "id": "18gOluyHcmmf",
        "colab": {
          "base_uri": "https://localhost:8080/",
          "height": 34
        },
        "outputId": "f73937eb-6d9c-4dc3-c474-6d528e865f80"
      },
      "execution_count": null,
      "outputs": [
        {
          "output_type": "stream",
          "name": "stdout",
          "text": [
            "50\n"
          ]
        },
        {
          "output_type": "display_data",
          "data": {
            "text/plain": [
              "<IPython.core.display.Javascript object>"
            ],
            "application/javascript": [
              "\n",
              "    async function download(id, filename, size) {\n",
              "      if (!google.colab.kernel.accessAllowed) {\n",
              "        return;\n",
              "      }\n",
              "      const div = document.createElement('div');\n",
              "      const label = document.createElement('label');\n",
              "      label.textContent = `Downloading \"${filename}\": `;\n",
              "      div.appendChild(label);\n",
              "      const progress = document.createElement('progress');\n",
              "      progress.max = size;\n",
              "      div.appendChild(progress);\n",
              "      document.body.appendChild(div);\n",
              "\n",
              "      const buffers = [];\n",
              "      let downloaded = 0;\n",
              "\n",
              "      const channel = await google.colab.kernel.comms.open(id);\n",
              "      // Send a message to notify the kernel that we're ready.\n",
              "      channel.send({})\n",
              "\n",
              "      for await (const message of channel.messages) {\n",
              "        // Send a message to notify the kernel that we're ready.\n",
              "        channel.send({})\n",
              "        if (message.buffers) {\n",
              "          for (const buffer of message.buffers) {\n",
              "            buffers.push(buffer);\n",
              "            downloaded += buffer.byteLength;\n",
              "            progress.value = downloaded;\n",
              "          }\n",
              "        }\n",
              "      }\n",
              "      const blob = new Blob(buffers, {type: 'application/binary'});\n",
              "      const a = document.createElement('a');\n",
              "      a.href = window.URL.createObjectURL(blob);\n",
              "      a.download = filename;\n",
              "      div.appendChild(a);\n",
              "      a.click();\n",
              "      div.remove();\n",
              "    }\n",
              "  "
            ]
          },
          "metadata": {}
        },
        {
          "output_type": "display_data",
          "data": {
            "text/plain": [
              "<IPython.core.display.Javascript object>"
            ],
            "application/javascript": [
              "download(\"download_a939c365-01dd-4431-9ee4-24cd58045a5a\", \"example.txt\", 12)"
            ]
          },
          "metadata": {}
        }
      ]
    },
    {
      "cell_type": "code",
      "source": [
        "!ssh-keygen -t rsa -b 4096 -C \"Ilya.Sbrodov@urfu.me\""
      ],
      "metadata": {
        "colab": {
          "base_uri": "https://localhost:8080/"
        },
        "id": "pDW3vwxbTHXP",
        "outputId": "46c641af-701a-4c93-f457-067296a17872"
      },
      "execution_count": 11,
      "outputs": [
        {
          "output_type": "stream",
          "name": "stdout",
          "text": [
            "Generating public/private rsa key pair.\n",
            "Enter file in which to save the key (/root/.ssh/id_rsa): ^C\n"
          ]
        }
      ]
    }
  ]
}